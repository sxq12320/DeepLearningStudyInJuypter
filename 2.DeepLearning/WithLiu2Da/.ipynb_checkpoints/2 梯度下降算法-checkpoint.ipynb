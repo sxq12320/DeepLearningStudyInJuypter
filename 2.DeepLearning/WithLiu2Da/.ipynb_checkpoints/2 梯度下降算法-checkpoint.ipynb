{
 "cells": [
  {
   "cell_type": "markdown",
   "id": "e0f81ed6",
   "metadata": {},
   "source": [
    "# 梯度下降算法"
   ]
  },
  {
   "cell_type": "code",
   "execution_count": 71,
   "id": "31abceab",
   "metadata": {},
   "outputs": [],
   "source": [
    "import numpy as np\n",
    "import matplotlib.pyplot as plt"
   ]
  },
  {
   "cell_type": "markdown",
   "id": "93a89cd6",
   "metadata": {},
   "source": [
    "导入库函数"
   ]
  },
  {
   "cell_type": "code",
   "execution_count": 72,
   "id": "1ea1b3b7",
   "metadata": {},
   "outputs": [],
   "source": [
    "x_data = [1.0 , 2.0 , 3.0 , 4.0 , 5.0]\n",
    "y_data = [2.0 , 4.0 , 6.0 , 8.0 , 10.0]"
   ]
  },
  {
   "cell_type": "markdown",
   "id": "77f778ab",
   "metadata": {},
   "source": [
    "导入训练数据"
   ]
  },
  {
   "cell_type": "code",
   "execution_count": 73,
   "id": "343b4fc0",
   "metadata": {},
   "outputs": [],
   "source": [
    "w = 1.0 \n",
    "alpha = 0.005"
   ]
  },
  {
   "cell_type": "markdown",
   "id": "79be4768",
   "metadata": {},
   "source": [
    "初始化权重\n",
    "\n",
    "初始化学习率"
   ]
  },
  {
   "cell_type": "code",
   "execution_count": 74,
   "id": "7a3d0d41",
   "metadata": {},
   "outputs": [],
   "source": [
    "def forward(x):\n",
    "    return x*w"
   ]
  },
  {
   "cell_type": "markdown",
   "id": "28052263",
   "metadata": {},
   "source": [
    "定义前馈函数，求解$y hat$"
   ]
  },
  {
   "cell_type": "code",
   "execution_count": 75,
   "id": "808e45c3",
   "metadata": {},
   "outputs": [],
   "source": [
    "def costs(xs, ys):\n",
    "    sum = 0\n",
    "    for x , y in zip(xs,ys):\n",
    "        sum += (forward(x)-y)**2\n",
    "    sum = sum /(len(xs))\n",
    "    return sum "
   ]
  },
  {
   "cell_type": "markdown",
   "id": "1ee1250e",
   "metadata": {},
   "source": [
    "定义这个平均损失函数$MSE$，$cost(\\omega)=\\frac{1}{N}\\sum_{n=1}^N(\\hat{y}_n-y_n)^2$"
   ]
  },
  {
   "cell_type": "code",
   "execution_count": 76,
   "id": "64c400bc",
   "metadata": {},
   "outputs": [],
   "source": [
    "def Grad(xs , ys):\n",
    "    sum = 0\n",
    "    for x, y in zip(xs,ys):\n",
    "        sum += 2*x*(forward(x) - y)\n",
    "    sum =sum /(len(xs))\n",
    "    return sum"
   ]
  },
  {
   "cell_type": "markdown",
   "id": "8deddcb6",
   "metadata": {},
   "source": [
    "定义这个梯度函数$Gradient$，$\\frac{\\partial cost}{\\partial\\omega}=\\frac{1}{N}\\sum_{n=1}^N2\\cdot x_n\\cdot(x_n\\cdot\\omega-y_n)$"
   ]
  },
  {
   "cell_type": "code",
   "execution_count": 77,
   "id": "9a11110f",
   "metadata": {},
   "outputs": [],
   "source": [
    "epoch_list = []\n",
    "MSE_average_list = []\n",
    "Gradient_list = []\n",
    "w_list=[]"
   ]
  },
  {
   "cell_type": "markdown",
   "id": "14540481",
   "metadata": {},
   "source": [
    "定义一定的数组用来保存日志"
   ]
  },
  {
   "cell_type": "code",
   "execution_count": 78,
   "id": "863caccd",
   "metadata": {},
   "outputs": [],
   "source": [
    "for epoch in range(0 , 101 , 1):\n",
    "    epoch_list.append(epoch)\n",
    "    MSE_average = costs(x_data , y_data)\n",
    "    MSE_average_list.append(MSE_average)\n",
    "    Gradient = Grad(x_data , y_data)\n",
    "    Gradient_list.append(Gradient)\n",
    "    w_list.append(w)\n",
    "    w = w- alpha*Gradient"
   ]
  },
  {
   "cell_type": "markdown",
   "id": "d72f6577",
   "metadata": {},
   "source": [
    "开始用梯度下降算法进行求解"
   ]
  },
  {
   "cell_type": "code",
   "execution_count": 79,
   "id": "d10304ea",
   "metadata": {},
   "outputs": [
    {
     "data": {
      "image/png": "[encoded data removed]",
      "text/plain": [
       "<Figure size 640x480 with 1 Axes>"
      ]
     },
     "metadata": {},
     "output_type": "display_data"
    }
   ],
   "source": [
    "plt.plot(epoch_list , MSE_average_list , 'r' , linewidth = 2,label = 'Average MSE changes')\n",
    "plt.plot(epoch_list , w_list , 'b' ,linewidth = 2 , label='Weight changes')\n",
    "plt.xlabel('epoch')\n",
    "plt.ylabel('data')\n",
    "plt.legend()\n",
    "plt.show()"
   ]
  },
  {
   "cell_type": "markdown",
   "id": "c3bc571d",
   "metadata": {},
   "source": [
    "绘制图像"
   ]
  }
 ],
 "metadata": {
  "kernelspec": {
   "display_name": "d2l",
   "language": "python",
   "name": "d2l"
  },
  "language_info": {
   "codemirror_mode": {
    "name": "ipython",
    "version": 3
   },
   "file_extension": ".py",
   "mimetype": "text/x-python",
   "name": "python",
   "nbconvert_exporter": "python",
   "pygments_lexer": "ipython3",
   "version": "3.8.20"
  }
 },
 "nbformat": 4,
 "nbformat_minor": 5
}
