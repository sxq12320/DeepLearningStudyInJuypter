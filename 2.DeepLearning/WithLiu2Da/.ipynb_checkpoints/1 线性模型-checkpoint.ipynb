{
 "cells": [
  {
   "cell_type": "code",
   "execution_count": 2,
   "id": "574b68e5",
   "metadata": {},
   "outputs": [],
   "source": [
    "import numpy as np\n",
    "import matplotlib.pyplot as plt"
   ]
  },
  {
   "cell_type": "markdown",
   "id": "7ef17ec5",
   "metadata": {},
   "source": [
    "引入相应的库函数"
   ]
  },
  {
   "cell_type": "code",
   "execution_count": 16,
   "id": "2ad1a5b4",
   "metadata": {},
   "outputs": [],
   "source": [
    "x_data = [1.0 , 2.0 , 3.0 , 4.0]\n",
    "y_data = [2.0 , 4.0 , 6.0 , 8.0]"
   ]
  },
  {
   "cell_type": "markdown",
   "id": "9beba049",
   "metadata": {},
   "source": [
    "导入训练模型数据"
   ]
  },
  {
   "cell_type": "code",
   "execution_count": 17,
   "id": "8667bfb3",
   "metadata": {},
   "outputs": [],
   "source": [
    "def forward(x):\n",
    "    return x*w"
   ]
  },
  {
   "cell_type": "markdown",
   "id": "1d47bff9",
   "metadata": {},
   "source": [
    "前馈模型，求解y hat"
   ]
  },
  {
   "cell_type": "code",
   "execution_count": 18,
   "id": "72a32cd3",
   "metadata": {},
   "outputs": [],
   "source": [
    "def loss(x,y):\n",
    "    y_hat = forward(x)\n",
    "    res = (y_hat - y)**2\n",
    "    return res"
   ]
  },
  {
   "cell_type": "markdown",
   "id": "bc72f62f",
   "metadata": {},
   "source": [
    "前馈模型，求解损失"
   ]
  },
  {
   "cell_type": "code",
   "execution_count": 20,
   "id": "fc0644cb",
   "metadata": {},
   "outputs": [],
   "source": [
    "w_list = []\n",
    "loss_list = []"
   ]
  },
  {
   "cell_type": "markdown",
   "id": "477dd86e",
   "metadata": {},
   "source": [
    "初始化两个矩阵"
   ]
  },
  {
   "cell_type": "code",
   "execution_count": 21,
   "id": "8aedd7d5",
   "metadata": {},
   "outputs": [],
   "source": [
    "for w in np.arange(0 , 4.1 , 0.1):\n",
    "    w_list.append(w)\n",
    "    sum = 0\n",
    "    for x,y in zip(x_data , y_data):\n",
    "        sum += loss(x,y)\n",
    "    sum = sum /(len(x_data))\n",
    "    loss_list.append(sum)    "
   ]
  },
  {
   "cell_type": "markdown",
   "id": "3d8e6301",
   "metadata": {},
   "source": [
    "用枚举法求解权重的最优解"
   ]
  },
  {
   "cell_type": "code",
   "execution_count": 22,
   "id": "23244adf",
   "metadata": {},
   "outputs": [
    {
     "data": {
      "image/png": "[encoded data removed]",
      "text/plain": [
       "<Figure size 640x480 with 1 Axes>"
      ]
     },
     "metadata": {},
     "output_type": "display_data"
    }
   ],
   "source": [
    "plt.plot(w_list , loss_list , color = 'r' , linewidth = 2)\n",
    "plt.scatter(w_list , loss_list , color = 'b' , s= 20)\n",
    "plt.xlabel('w')\n",
    "plt.ylabel('MSE')\n",
    "plt.show()"
   ]
  },
  {
   "cell_type": "markdown",
   "id": "132af60a",
   "metadata": {},
   "source": [
    "绘制相对应的图形"
   ]
  },
  {
   "cell_type": "code",
   "execution_count": 23,
   "id": "7403501e",
   "metadata": {},
   "outputs": [
    {
     "name": "stdout",
     "output_type": "stream",
     "text": [
      "权重w为:0.0,损失为：30.0 \n",
      "\n",
      "权重w为:0.1,损失为：27.075000000000003 \n",
      "\n",
      "权重w为:0.2,损失为：24.300000000000004 \n",
      "\n",
      "权重w为:0.30000000000000004,损失为：21.674999999999997 \n",
      "\n",
      "权重w为:0.4,损失为：19.200000000000003 \n",
      "\n",
      "权重w为:0.5,损失为：16.875 \n",
      "\n",
      "权重w为:0.6000000000000001,损失为：14.699999999999996 \n",
      "\n",
      "权重w为:0.7000000000000001,损失为：12.674999999999997 \n",
      "\n",
      "权重w为:0.8,损失为：10.799999999999999 \n",
      "\n",
      "权重w为:0.9,损失为：9.075 \n",
      "\n",
      "权重w为:1.0,损失为：7.5 \n",
      "\n",
      "权重w为:1.1,损失为：6.074999999999998 \n",
      "\n",
      "权重w为:1.2000000000000002,损失为：4.799999999999997 \n",
      "\n",
      "权重w为:1.3,损失为：3.674999999999999 \n",
      "\n",
      "权重w为:1.4000000000000001,损失为：2.699999999999999 \n",
      "\n",
      "权重w为:1.5,损失为：1.875 \n",
      "\n",
      "权重w为:1.6,损失为：1.1999999999999993 \n",
      "\n",
      "权重w为:1.7000000000000002,损失为：0.6749999999999992 \n",
      "\n",
      "权重w为:1.8,损失为：0.2999999999999998 \n",
      "\n",
      "权重w为:1.9000000000000001,损失为：0.07499999999999984 \n",
      "\n",
      "权重w为:2.0,损失为：0.0 \n",
      "\n",
      "权重w为:2.1,损失为：0.0750000000000002 \n",
      "\n",
      "权重w为:2.2,损失为：0.3000000000000005 \n",
      "\n",
      "权重w为:2.3000000000000003,损失为：0.675000000000001 \n",
      "\n",
      "权重w为:2.4000000000000004,损失为：1.200000000000002 \n",
      "\n",
      "权重w为:2.5,损失为：1.875 \n",
      "\n",
      "权重w为:2.6,损失为：2.700000000000001 \n",
      "\n",
      "权重w为:2.7,损失为：3.6750000000000034 \n",
      "\n",
      "权重w为:2.8000000000000003,损失为：4.8000000000000025 \n",
      "\n",
      "权重w为:2.9000000000000004,损失为：6.075000000000005 \n",
      "\n",
      "权重w为:3.0,损失为：7.5 \n",
      "\n",
      "权重w为:3.1,损失为：9.075000000000003 \n",
      "\n",
      "权重w为:3.2,损失为：10.800000000000004 \n",
      "\n",
      "权重w为:3.3000000000000003,损失为：12.675000000000004 \n",
      "\n",
      "权重w为:3.4000000000000004,损失为：14.700000000000006 \n",
      "\n",
      "权重w为:3.5,损失为：16.875 \n",
      "\n",
      "权重w为:3.6,损失为：19.200000000000003 \n",
      "\n",
      "权重w为:3.7,损失为：21.675000000000008 \n",
      "\n",
      "权重w为:3.8000000000000003,损失为：24.300000000000008 \n",
      "\n",
      "权重w为:3.9000000000000004,损失为：27.07500000000001 \n",
      "\n",
      "权重w为:4.0,损失为：30.0 \n",
      "\n"
     ]
    }
   ],
   "source": [
    "for w,loss in zip(w_list , loss_list):\n",
    "    print(f'权重w为:{w},损失为：{loss} \\n')"
   ]
  },
  {
   "cell_type": "markdown",
   "id": "46469a85",
   "metadata": {},
   "source": [
    "将学习日志进行打印"
   ]
  }
 ],
 "metadata": {
  "kernelspec": {
   "display_name": "d2l",
   "language": "python",
   "name": "d2l"
  },
  "language_info": {
   "codemirror_mode": {
    "name": "ipython",
    "version": 3
   },
   "file_extension": ".py",
   "mimetype": "text/x-python",
   "name": "python",
   "nbconvert_exporter": "python",
   "pygments_lexer": "ipython3",
   "version": "3.8.20"
  }
 },
 "nbformat": 4,
 "nbformat_minor": 5
}
